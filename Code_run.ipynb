{
  "nbformat": 4,
  "nbformat_minor": 5,
  "metadata": {
    "selected_hardware_size": "small",
    "noteable": {
      "last_transaction_id": "c550202c-dc4f-4430-82dd-5def08dd0b0f"
    }
  },
  "cells": [
    {
      "id": "330fbc89",
      "cell_type": "code",
      "metadata": {},
      "execution_count": null,
      "source": "",
      "outputs": []
    }
  ]
}